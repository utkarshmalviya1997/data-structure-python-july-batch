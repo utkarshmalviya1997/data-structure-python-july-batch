{
  "nbformat": 4,
  "nbformat_minor": 0,
  "metadata": {
    "colab": {
      "provenance": []
    },
    "kernelspec": {
      "name": "python3",
      "display_name": "Python 3"
    },
    "language_info": {
      "name": "python"
    }
  },
  "cells": [
    {
      "cell_type": "markdown",
      "source": [
        "#Python data types and strucuture\n"
      ],
      "metadata": {
        "id": "JhFFPvW5BpsP"
      }
    },
    {
      "cell_type": "markdown",
      "source": [
        "1.   What are data structures, and why are they important ?\n",
        "  - Data structures are organized ways of storing and managing data so that it can be accessed and modified efficiently.they are important as they provide a way to store the data according to their type and use.\n",
        "2.   Explain the difference between mutable and immutable data types with examples ?\n",
        "  - mutable data type the data that can be modified when needed for ex. list, sets and dictioaries while immutable data types can not be modified later once they are created for ex. tuples,string, frozen set.\n",
        "3.  What are the main differences between lists and tuples in Python ?\n",
        "  - the main difference between list and tuples is list are mutable while tuples are immutable.\n",
        "4.  Describe how dictionaries store data ?\n",
        "  - Dictionaries stores data in the form of key value pair key represents the index and the value is data stored to be executed by the unique keys.\n",
        "5.  Why might you use a set instead of a list in Python ?\n",
        "  - we use set instead of list because list stores same value multiple times when feeded in it but the set stores one value only one time or combines the value if entered multiple times.\n",
        "6.  What is a string in Python, and how is it different from a list ?\n",
        "  - Strings in Python are sequences of characters enclosed in quotes ('' or “”). Lists are ordered collections of items enclosed in square brackets [].Strings are immutable, meaning they cannot be changed once created, while lists are mutable and can be modified as needed.\n",
        "7.  How do tuples ensure data integrity in Python ?\n",
        "  - Tuples ensure data integrity in python as data stored in tuples are immutable that means it can not be changed once feeded.\n",
        "8.  What is a hash table, and how does it relate to dictionaries in Python ?\n",
        "  - When we insert a key-value pair into a dictionary, Python internally uses a hash function to compute a hash value for the key. This hash value is then used to determine where in memory the key-value pair should be stored.\n",
        "9.  Can lists contain different data types in Python ?\n",
        "  - yes list is a heterogenous data structure i.e. it contains data of different types in it.\n",
        "10. Explain why strings are immutable in Python ?\n",
        "  - Once a string is created, it will never change, which makes debugging and understanding the code easier.\n",
        "11. What advantages do dictionaries offer over lists for certain tasks ?\n",
        "  - Dictionaries offers key advantages over lists for certain types of tasks, particularly when it comes to efficient lookups, clear structure, and flexible data associations.\n",
        "12.  Describe a scenario where using a tuple would be preferable over a list ?\n",
        "  - a tuple is preferable over a list in scenarios where we want to create a collection of values that is immutable, can be used as a key in a dictionary or a set.\n",
        "13. How do sets handle duplicate values in Python ?\n",
        "  - In Python sets automatically merges duplicate values. When we add items to a set, any duplicate entries are ignored, and only unique elements are stored.\n",
        "14. How does the “in” keyword work differently for lists and dictionaries ?\n",
        "  - When we use with a list in checks whether a value exists anywhere in the list or not while When we use with a dictionary in checks whether a key exists in the dictionary but not the value.\n",
        "15. Can you modify the elements of a tuple? Explain why or why not ?\n",
        "  - No, we can not modify the elements of tuple as tuple is a immutable data type it does not any modification in it.\n",
        "16. What is a nested dictionary, and give an example of its use case ?\n",
        "  -  A nested dictionary in Python is a dictionary where values themselves are dictionaries. It's a way to organize complex data hierarchically.\n",
        "17. Describe the time complexity of accessing elements in a dictionary ?\n",
        "  - Python dictionaries are implemented using hash tables, which allow fast lookup by computing a hash of the key and directly accessing the bucket where the value is stored.\n",
        "18. In what situations are lists preferred over dictionaries ?\n",
        "  - when the order of elements is important and when we need to frequently access elements by their index or perform operations like appending, extending, or inserting.\n",
        "19. Why are dictionaries considered unordered, and how does that affect data retrieval ?\n",
        "  - Dictionaries use keys so it doesnt actually matter where the item is in the dictionary, we search with keys.\n",
        "20.  Explain the difference between a list and a dictionary in terms of data retrieval ?\n",
        "  - A list is an ordered collection of items, whereas a dictionary is an unordered data collection in a key: value pair. Elements from the list can be accessed using the index no. , while the elements of the dictionary can be accessed using keys\n",
        "  "
      ],
      "metadata": {
        "id": "NeuTnezVJJp6"
      }
    },
    {
      "cell_type": "code",
      "source": [
        "# 1. Write a code to create a string with your name and print it ?\n",
        "name = input('your name :')\n",
        "print (f'Name is {name}')"
      ],
      "metadata": {
        "id": "OVhkoP7bJb5W",
        "colab": {
          "base_uri": "https://localhost:8080/"
        },
        "outputId": "22cc777e-3b27-4fe0-b8dc-0de1e82dfd7e"
      },
      "execution_count": null,
      "outputs": [
        {
          "output_type": "stream",
          "name": "stdout",
          "text": [
            "your name :um\n",
            "Name is um\n"
          ]
        }
      ]
    },
    {
      "cell_type": "code",
      "source": [
        "# 2.  Write a code to find the length of the string \"Hello World\" ?\n",
        "string = 'Hello World'\n",
        "print(len(string))\n"
      ],
      "metadata": {
        "colab": {
          "base_uri": "https://localhost:8080/"
        },
        "id": "SBt4NuJgKqoc",
        "outputId": "fc3ef5e2-a891-4e5b-c0cf-a1760d08a7ee"
      },
      "execution_count": null,
      "outputs": [
        {
          "output_type": "stream",
          "name": "stdout",
          "text": [
            "11\n"
          ]
        }
      ]
    },
    {
      "cell_type": "code",
      "source": [
        "# 3.  Write a code to slice the first 3 characters from the string \"Python Programming\" ?\n",
        "string = 'python programming'\n",
        "print(string[0:3])\n"
      ],
      "metadata": {
        "colab": {
          "base_uri": "https://localhost:8080/"
        },
        "id": "18IUxBK7K5JC",
        "outputId": "de868075-8608-4e2a-ba46-60b7091f3e8c"
      },
      "execution_count": null,
      "outputs": [
        {
          "output_type": "stream",
          "name": "stdout",
          "text": [
            "pyt\n"
          ]
        }
      ]
    },
    {
      "cell_type": "code",
      "source": [
        "# 4.  Write a code to convert the string \"hello\" to uppercase ?\n",
        "string = 'hello'\n",
        "string.upper()"
      ],
      "metadata": {
        "colab": {
          "base_uri": "https://localhost:8080/",
          "height": 35
        },
        "id": "U7K3jzyiLbUD",
        "outputId": "b58f13a4-6a08-4356-a437-24a5bcd80882"
      },
      "execution_count": null,
      "outputs": [
        {
          "output_type": "execute_result",
          "data": {
            "text/plain": [
              "'HELLO'"
            ],
            "application/vnd.google.colaboratory.intrinsic+json": {
              "type": "string"
            }
          },
          "metadata": {},
          "execution_count": 36
        }
      ]
    },
    {
      "cell_type": "code",
      "source": [
        "# 5.  Write a code to replace the word \"apple\" with \"orange\" in the string \"I like apple\" ?\n",
        "string = 'i like apple'\n",
        "string.replace('apple','orange')\n"
      ],
      "metadata": {
        "colab": {
          "base_uri": "https://localhost:8080/",
          "height": 35
        },
        "id": "kO_VAoXhMXzw",
        "outputId": "876e9abf-a770-43f9-8884-408bb2ef077b"
      },
      "execution_count": null,
      "outputs": [
        {
          "output_type": "execute_result",
          "data": {
            "text/plain": [
              "'i like orange'"
            ],
            "application/vnd.google.colaboratory.intrinsic+json": {
              "type": "string"
            }
          },
          "metadata": {},
          "execution_count": 37
        }
      ]
    },
    {
      "cell_type": "code",
      "source": [
        "# 6.   Write a code to create a list with numbers 1 to 5 and print it ?\n",
        "number = list(range(1,6))\n",
        "print(number)"
      ],
      "metadata": {
        "colab": {
          "base_uri": "https://localhost:8080/",
          "height": 176
        },
        "id": "11ialEa0NUJ5",
        "outputId": "71826c7b-a957-4d3c-d6d3-618ccaf88bf1"
      },
      "execution_count": null,
      "outputs": [
        {
          "output_type": "error",
          "ename": "TypeError",
          "evalue": "'list' object is not callable",
          "traceback": [
            "\u001b[0;31m---------------------------------------------------------------------------\u001b[0m",
            "\u001b[0;31mTypeError\u001b[0m                                 Traceback (most recent call last)",
            "\u001b[0;32m/tmp/ipython-input-38-3321298183.py\u001b[0m in \u001b[0;36m<cell line: 0>\u001b[0;34m()\u001b[0m\n\u001b[1;32m      1\u001b[0m \u001b[0;31m# 6.   Write a code to create a list with numbers 1 to 5 and print it ?\u001b[0m\u001b[0;34m\u001b[0m\u001b[0;34m\u001b[0m\u001b[0m\n\u001b[0;32m----> 2\u001b[0;31m \u001b[0mnumber\u001b[0m \u001b[0;34m=\u001b[0m \u001b[0mlist\u001b[0m\u001b[0;34m(\u001b[0m\u001b[0mrange\u001b[0m\u001b[0;34m(\u001b[0m\u001b[0;36m1\u001b[0m\u001b[0;34m,\u001b[0m\u001b[0;36m6\u001b[0m\u001b[0;34m)\u001b[0m\u001b[0;34m)\u001b[0m\u001b[0;34m\u001b[0m\u001b[0;34m\u001b[0m\u001b[0m\n\u001b[0m\u001b[1;32m      3\u001b[0m \u001b[0mprint\u001b[0m\u001b[0;34m(\u001b[0m\u001b[0mnumber\u001b[0m\u001b[0;34m)\u001b[0m\u001b[0;34m\u001b[0m\u001b[0;34m\u001b[0m\u001b[0m\n",
            "\u001b[0;31mTypeError\u001b[0m: 'list' object is not callable"
          ]
        }
      ]
    },
    {
      "cell_type": "code",
      "source": [
        "# 7.  Write a code to append the number 10 to the list [1, 2, 3, 4]?\n",
        "number = list(range(1,5))\n",
        "number.append(10)\n",
        "print(number)"
      ],
      "metadata": {
        "colab": {
          "base_uri": "https://localhost:8080/",
          "height": 193
        },
        "id": "4T8Vjy4nOXbe",
        "outputId": "c8045164-c596-4185-85b4-56bb22f77829"
      },
      "execution_count": null,
      "outputs": [
        {
          "output_type": "error",
          "ename": "TypeError",
          "evalue": "'list' object is not callable",
          "traceback": [
            "\u001b[0;31m---------------------------------------------------------------------------\u001b[0m",
            "\u001b[0;31mTypeError\u001b[0m                                 Traceback (most recent call last)",
            "\u001b[0;32m/tmp/ipython-input-48-1420149656.py\u001b[0m in \u001b[0;36m<cell line: 0>\u001b[0;34m()\u001b[0m\n\u001b[1;32m      1\u001b[0m \u001b[0;31m# 7.  Write a code to append the number 10 to the list [1, 2, 3, 4]?\u001b[0m\u001b[0;34m\u001b[0m\u001b[0;34m\u001b[0m\u001b[0m\n\u001b[0;32m----> 2\u001b[0;31m \u001b[0mnumber\u001b[0m \u001b[0;34m=\u001b[0m \u001b[0mlist\u001b[0m\u001b[0;34m(\u001b[0m\u001b[0mrange\u001b[0m\u001b[0;34m(\u001b[0m\u001b[0;36m1\u001b[0m\u001b[0;34m,\u001b[0m\u001b[0;36m5\u001b[0m\u001b[0;34m)\u001b[0m\u001b[0;34m)\u001b[0m\u001b[0;34m\u001b[0m\u001b[0;34m\u001b[0m\u001b[0m\n\u001b[0m\u001b[1;32m      3\u001b[0m \u001b[0mnumber\u001b[0m\u001b[0;34m.\u001b[0m\u001b[0mappend\u001b[0m\u001b[0;34m(\u001b[0m\u001b[0;36m10\u001b[0m\u001b[0;34m)\u001b[0m\u001b[0;34m\u001b[0m\u001b[0;34m\u001b[0m\u001b[0m\n\u001b[1;32m      4\u001b[0m \u001b[0mprint\u001b[0m\u001b[0;34m(\u001b[0m\u001b[0mnumber\u001b[0m\u001b[0;34m)\u001b[0m\u001b[0;34m\u001b[0m\u001b[0;34m\u001b[0m\u001b[0m\n",
            "\u001b[0;31mTypeError\u001b[0m: 'list' object is not callable"
          ]
        }
      ]
    },
    {
      "cell_type": "code",
      "source": [
        "# 8.  Write a code to remove the number 3 from the list [1, 2, 3, 4, 5]?\n",
        "number = list(range(1,6))\n",
        "number.remove(3)\n",
        "print(number)"
      ],
      "metadata": {
        "id": "89_QEnjtPK39"
      },
      "execution_count": null,
      "outputs": []
    },
    {
      "cell_type": "code",
      "source": [
        "# 9.  Write a code to access the second element in the list ['a', 'b', 'c', 'd'] ?\n",
        "list = ['a','b','c','d']\n",
        "print(list[1])"
      ],
      "metadata": {
        "id": "qFZB78DqPhBW"
      },
      "execution_count": null,
      "outputs": []
    },
    {
      "cell_type": "code",
      "source": [
        "# 10. Write a code to reverse the list [10, 20, 30, 40, 50].\n",
        "list = [10,20,30,40,50]\n",
        "list.reverse()\n",
        "print(list)"
      ],
      "metadata": {
        "colab": {
          "base_uri": "https://localhost:8080/"
        },
        "id": "ekiuQPTgUc_p",
        "outputId": "e0fddfb9-2d53-437c-8c5f-d2b996c3a2b2"
      },
      "execution_count": null,
      "outputs": [
        {
          "output_type": "stream",
          "name": "stdout",
          "text": [
            "[50, 40, 30, 20, 10]\n"
          ]
        }
      ]
    },
    {
      "cell_type": "code",
      "source": [
        "# 11.  Write a code to create a tuple with the elements 100, 200, 300 and print it.\n",
        "tup1 = tuple(range(100,301,100))\n",
        "print(tup1)"
      ],
      "metadata": {
        "colab": {
          "base_uri": "https://localhost:8080/"
        },
        "id": "eslA2GKPQPHO",
        "outputId": "697a349c-7e27-46df-b80c-d52a22e066b1"
      },
      "execution_count": null,
      "outputs": [
        {
          "output_type": "stream",
          "name": "stdout",
          "text": [
            "(100, 200, 300)\n"
          ]
        }
      ]
    },
    {
      "cell_type": "code",
      "source": [
        "# 12. Write a code to access the second-to-last element of the tuple ('red', 'green', 'blue', 'yellow').\n",
        "tup1 = ('red', 'green', 'blue', 'yellow')\n",
        "print(tup1[-2])"
      ],
      "metadata": {
        "colab": {
          "base_uri": "https://localhost:8080/"
        },
        "id": "w5P_eE6qQuux",
        "outputId": "8257c2d4-d481-4929-e91b-cef590708763"
      },
      "execution_count": null,
      "outputs": [
        {
          "output_type": "stream",
          "name": "stdout",
          "text": [
            "blue\n"
          ]
        }
      ]
    },
    {
      "cell_type": "code",
      "source": [
        "# 13. Write a code to find the minimum number in the tuple (10, 20, 5, 15).\n",
        "tup1 = (10,20,5,15)\n",
        "minimum = min(tup1)\n",
        "print(minimum)"
      ],
      "metadata": {
        "colab": {
          "base_uri": "https://localhost:8080/"
        },
        "id": "vlK5z1OMQ_ic",
        "outputId": "864c8270-8b0f-4593-f01c-d74f6f695179"
      },
      "execution_count": null,
      "outputs": [
        {
          "output_type": "stream",
          "name": "stdout",
          "text": [
            "5\n"
          ]
        }
      ]
    },
    {
      "cell_type": "code",
      "source": [
        "# 14. Write a code to find the index of the element \"cat\" in the tuple ('dog', 'cat', 'rabbit').\n",
        "tup1 = ('dog','cat','rabbit')\n",
        "index = tup1.index('cat')\n",
        "print(index)\n"
      ],
      "metadata": {
        "colab": {
          "base_uri": "https://localhost:8080/"
        },
        "id": "WOdnGOTZRfUv",
        "outputId": "ac17e3f0-a76e-4bab-f683-e3ab8e39111d"
      },
      "execution_count": null,
      "outputs": [
        {
          "output_type": "stream",
          "name": "stdout",
          "text": [
            "1\n"
          ]
        }
      ]
    },
    {
      "cell_type": "code",
      "source": [
        "# 15.  Write a code to create a tuple containing three different fruits and check if \"kiwi\" is in it.\n",
        "fruits = ('apple','banana','mango')\n",
        "fruits1= ('mango','kiwi','apple')\n",
        "print('kiwi' in fruits)\n",
        "print('kiwi' in fruits1)\n"
      ],
      "metadata": {
        "colab": {
          "base_uri": "https://localhost:8080/"
        },
        "id": "xoL4W3_4SX_r",
        "outputId": "294b5c7e-c780-4d41-e792-1ee02d14098b"
      },
      "execution_count": null,
      "outputs": [
        {
          "output_type": "stream",
          "name": "stdout",
          "text": [
            "False\n",
            "True\n"
          ]
        }
      ]
    },
    {
      "cell_type": "code",
      "source": [
        "# 16.  Write a code to create a set with the elements 'a', 'b', 'c' and print it.\n",
        "set_1 = {'a','b','c'}\n",
        "print(set_1)"
      ],
      "metadata": {
        "colab": {
          "base_uri": "https://localhost:8080/"
        },
        "id": "wR6cM5ZkVzxk",
        "outputId": "98e46b6c-39a6-497a-8178-dc2460eddd2e"
      },
      "execution_count": null,
      "outputs": [
        {
          "output_type": "stream",
          "name": "stdout",
          "text": [
            "{'b', 'a', 'c'}\n"
          ]
        }
      ]
    },
    {
      "cell_type": "code",
      "source": [
        "# 17.  Write a code to clear all elements from the set {1, 2, 3, 4, 5}.\n",
        "set_1 = set(range(1,6))\n",
        "print(set_1)\n",
        "set_1.clear()\n",
        "print(set_1)\n"
      ],
      "metadata": {
        "colab": {
          "base_uri": "https://localhost:8080/"
        },
        "id": "OGnUTdZ9WTwc",
        "outputId": "24781df3-d32d-401b-be0c-5ec6e2e62cc0"
      },
      "execution_count": null,
      "outputs": [
        {
          "output_type": "stream",
          "name": "stdout",
          "text": [
            "{1, 2, 3, 4, 5}\n",
            "set()\n"
          ]
        }
      ]
    },
    {
      "cell_type": "code",
      "source": [
        "# 18.  Write a code to remove the element 4 from the set {1, 2, 3, 4}.\n",
        "set_1 = set(range(1,5))\n",
        "set_1.remove(4)\n",
        "print(set_1)"
      ],
      "metadata": {
        "colab": {
          "base_uri": "https://localhost:8080/"
        },
        "id": "0YIm1CjiXe46",
        "outputId": "2092e51f-e252-42e4-9ef8-95838f3d769b"
      },
      "execution_count": null,
      "outputs": [
        {
          "output_type": "stream",
          "name": "stdout",
          "text": [
            "{1, 2, 3}\n"
          ]
        }
      ]
    },
    {
      "cell_type": "code",
      "source": [
        "# 19.  Write a code to find the union of two sets {1, 2, 3} and {3, 4, 5}.\n",
        "set_1 = {1,2,3}\n",
        "set_2 = {3,4,5}\n",
        "print (set_1 | set_2)"
      ],
      "metadata": {
        "colab": {
          "base_uri": "https://localhost:8080/"
        },
        "id": "k9mQkk8XYDcR",
        "outputId": "dbbb9983-4d5f-457c-b4b4-01c36887e5e4"
      },
      "execution_count": null,
      "outputs": [
        {
          "output_type": "stream",
          "name": "stdout",
          "text": [
            "{1, 2, 3, 4, 5}\n"
          ]
        }
      ]
    },
    {
      "cell_type": "code",
      "source": [
        "# 20. Write a code to find the intersection of two sets {1, 2, 3} and {2, 3, 4}.\n",
        "set_1 = {1,2,3}\n",
        "set_2 = {2,3,4}\n",
        "print(set_1.intersection(set_2))\n",
        "print (set_1&set_2)"
      ],
      "metadata": {
        "colab": {
          "base_uri": "https://localhost:8080/"
        },
        "id": "Ut5O324wY9q9",
        "outputId": "1144b98f-16f1-49ae-9df4-1b722a5d0b11"
      },
      "execution_count": null,
      "outputs": [
        {
          "output_type": "stream",
          "name": "stdout",
          "text": [
            "{2, 3}\n",
            "{2, 3}\n"
          ]
        }
      ]
    },
    {
      "cell_type": "code",
      "source": [
        "# 21. Write a code to create a dictionary with the keys \"name\", \"age\", and \"city\", and print it.\n",
        "dictionary = {'name':'utkarsh','age':28,'city':'itarsi'}\n",
        "print (dictionary)"
      ],
      "metadata": {
        "colab": {
          "base_uri": "https://localhost:8080/"
        },
        "id": "95KVVj5TY9oE",
        "outputId": "eb222b39-14ea-4b61-cf9d-6e961e391e15"
      },
      "execution_count": null,
      "outputs": [
        {
          "output_type": "stream",
          "name": "stdout",
          "text": [
            "{'name': 'utkarsh', 'age': 28, 'city': 'itarsi'}\n"
          ]
        }
      ]
    },
    {
      "cell_type": "code",
      "source": [
        "# 22. Write a code to add a new key-value pair \"country\": \"USA\" to the dictionary {'name': 'John', 'age': 25}.\n",
        "dictionary_1 = {'name':'john','age':25 }\n",
        "dictionary_1 [\"country\"] = 'USA'\n",
        "print (dictionary_1)"
      ],
      "metadata": {
        "colab": {
          "base_uri": "https://localhost:8080/"
        },
        "id": "2-slW9bZZTpY",
        "outputId": "49c98341-7c80-44e7-d075-1981b3834a1d"
      },
      "execution_count": null,
      "outputs": [
        {
          "output_type": "stream",
          "name": "stdout",
          "text": [
            "{'name': 'john', 'age': 25, 'country': 'USA'}\n"
          ]
        }
      ]
    },
    {
      "cell_type": "code",
      "source": [
        "# 23.  Write a code to access the value associated with the key \"name\" in the dictionary {'name': 'Alice', 'age': 30}.\n",
        "dictionary = {'name':'alice','age':30}\n",
        "dictionary [\"name\"]"
      ],
      "metadata": {
        "colab": {
          "base_uri": "https://localhost:8080/",
          "height": 35
        },
        "id": "wgDHcR1ldJ-5",
        "outputId": "614361d1-c66e-4308-9ddf-60713f17e945"
      },
      "execution_count": null,
      "outputs": [
        {
          "output_type": "execute_result",
          "data": {
            "text/plain": [
              "'alice'"
            ],
            "application/vnd.google.colaboratory.intrinsic+json": {
              "type": "string"
            }
          },
          "metadata": {},
          "execution_count": 34
        }
      ]
    },
    {
      "cell_type": "code",
      "source": [
        "# 24. Write a code to remove the key \"age\" from the dictionary {'name': 'Bob', 'age': 22, 'city': 'New York'}.\n",
        "\n",
        "dictionary = {'name':'bob','age':22,'city':'new york'}\n",
        "dictionary.pop('age')\n",
        "print (dictionary)"
      ],
      "metadata": {
        "colab": {
          "base_uri": "https://localhost:8080/"
        },
        "id": "mVqTEVSld2v_",
        "outputId": "04bb4c0f-cc92-456b-b8d7-48785adae84e"
      },
      "execution_count": null,
      "outputs": [
        {
          "output_type": "stream",
          "name": "stdout",
          "text": [
            "{'name': 'bob', 'city': 'new york'}\n"
          ]
        }
      ]
    },
    {
      "cell_type": "code",
      "source": [
        "# 25. Write a code to check if the key \"city\" exists in the dictionary {'name': 'Alice', 'city': 'Paris'}.\n",
        "dictionary = {'name':'alice','city':'paris'}\n",
        "print ('city' in dictionary)"
      ],
      "metadata": {
        "colab": {
          "base_uri": "https://localhost:8080/"
        },
        "id": "Q57Pv4sfecVz",
        "outputId": "d9a800c4-64fb-433f-f492-96acf613d7ec"
      },
      "execution_count": null,
      "outputs": [
        {
          "output_type": "stream",
          "name": "stdout",
          "text": [
            "True\n"
          ]
        }
      ]
    },
    {
      "cell_type": "code",
      "source": [
        "# 26. Write a code to create a list, a tuple, and a dictionary, and print them.\n",
        "list_1 = ['name','age','city']\n",
        "tup_1 = ('utkarsh',25,'itarsi')\n",
        "dictionary = {key:value for key,value in zip(list_1,tup_1)}\n",
        "print(list_1)\n",
        "print(tup_1)\n",
        "print(dictionary)\n"
      ],
      "metadata": {
        "colab": {
          "base_uri": "https://localhost:8080/"
        },
        "id": "ycuPwplmfH16",
        "outputId": "40395350-6e8f-4793-fbe6-1ab89e0c10c0"
      },
      "execution_count": null,
      "outputs": [
        {
          "output_type": "stream",
          "name": "stdout",
          "text": [
            "['name', 'age', 'city']\n",
            "('utkarsh', 25, 'itarsi')\n",
            "{'name': 'utkarsh', 'age': 25, 'city': 'itarsi'}\n"
          ]
        }
      ]
    },
    {
      "cell_type": "code",
      "source": [
        "# 27. Write a code to create a list of 5 random numbers between 1 and 100, sort it in ascending order, and print the\n",
        "# result.(replaced)\n",
        "list_1 = [1,10,0,65,32]\n",
        "print(sorted(list_1))"
      ],
      "metadata": {
        "colab": {
          "base_uri": "https://localhost:8080/"
        },
        "id": "TPoRt-1mecD_",
        "outputId": "464e1f38-1013-4a67-92e4-d3e6d9e84d77"
      },
      "execution_count": null,
      "outputs": [
        {
          "output_type": "stream",
          "name": "stdout",
          "text": [
            "[0, 1, 10, 32, 65]\n"
          ]
        }
      ]
    },
    {
      "cell_type": "code",
      "source": [
        "# 28. Write a code to create a list with strings and print the element at the third index.\n",
        "str_1 = 'name'\n",
        "str_2 = 'age'\n",
        "str_3 = 'city'\n",
        "str_4 = 'country'\n",
        "list_1 = [str_1,str_2,str_3,str_4]\n",
        "print(list_1[3])\n"
      ],
      "metadata": {
        "colab": {
          "base_uri": "https://localhost:8080/"
        },
        "id": "Hl2NVErhlIlO",
        "outputId": "5f07a5ec-b786-4b7f-b65b-6a6560439b75"
      },
      "execution_count": null,
      "outputs": [
        {
          "output_type": "stream",
          "name": "stdout",
          "text": [
            "country\n"
          ]
        }
      ]
    },
    {
      "cell_type": "code",
      "source": [
        "# 29.  Write a code to combine two dictionaries into one and print the result.\n",
        "dict_1 = {'name':'utkarsh','age':25}\n",
        "dict_2 = {'city':'itarsi','country':'india'}\n",
        "dict_1.update(dict_2)\n",
        "print (dict_1)"
      ],
      "metadata": {
        "colab": {
          "base_uri": "https://localhost:8080/"
        },
        "id": "p-BIJrI5mC5t",
        "outputId": "4cb7e023-743b-4dac-f04e-2156b41ba5d6"
      },
      "execution_count": null,
      "outputs": [
        {
          "output_type": "stream",
          "name": "stdout",
          "text": [
            "{'name': 'utkarsh', 'age': 25, 'city': 'itarsi', 'country': 'india'}\n"
          ]
        }
      ]
    },
    {
      "cell_type": "code",
      "source": [
        "# 30. Write a code to convert a list of strings into a set.\n",
        "list_1 = ['name','age','country']\n",
        "set_1 = set(list_1)\n",
        "print (set_1)"
      ],
      "metadata": {
        "colab": {
          "base_uri": "https://localhost:8080/"
        },
        "id": "iCNUDb3BoEjt",
        "outputId": "833fd87d-1a9a-4286-e539-c0259402173f"
      },
      "execution_count": null,
      "outputs": [
        {
          "output_type": "stream",
          "name": "stdout",
          "text": [
            "{'country', 'name', 'age'}\n"
          ]
        }
      ]
    }
  ]
}